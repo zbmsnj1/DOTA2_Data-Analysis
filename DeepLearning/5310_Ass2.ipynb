{
  "nbformat": 4,
  "nbformat_minor": 0,
  "metadata": {
    "colab": {
      "name": "5310_Ass2",
      "provenance": [],
      "collapsed_sections": [],
      "toc_visible": true
    },
    "kernelspec": {
      "name": "python3",
      "display_name": "Python 3"
    }
  },
  "cells": [
    {
      "cell_type": "markdown",
      "metadata": {
        "id": "H0eP3e_PjUBJ"
      },
      "source": [
        "# COMP5310 Assignment 2\n",
        "*Make sure you change the file name with your unikey*"
      ]
    },
    {
      "cell_type": "markdown",
      "metadata": {
        "id": "uHOuqG7PjhMp"
      },
      "source": [
        "# 1. Data set up\n"
      ]
    },
    {
      "cell_type": "markdown",
      "metadata": {
        "id": "u8BNaD9dkIVa"
      },
      "source": [
        "## 1.1 Load Data\n",
        "\n",
        "\n",
        "\n",
        "\n"
      ]
    },
    {
      "cell_type": "code",
      "metadata": {
        "id": "PjVkg2z0iZh3"
      },
      "source": [
        " \n",
        "from pydrive.auth import GoogleAuth\n",
        "from pydrive.drive import GoogleDrive\n",
        "from google.colab import auth\n",
        "from oauth2client.client import GoogleCredentials\n",
        "# Authenticate and create the PyDrive client.\n",
        "auth.authenticate_user()\n",
        "gauth = GoogleAuth()\n",
        "gauth.credentials = GoogleCredentials.get_application_default()\n",
        "drive = GoogleDrive(gauth)\n",
        " \n",
        "#download the and load data from google drive using id\n",
        "# zip id: 1OVQeurQR6y61ZjUFETleGMVYpO1EUXUW\n",
        "id = '1XsH62ATQY2k9F1f4sdNxxBy8IiR4mlFp'\n",
        "downloaded = drive.CreateFile({'id':id})\n",
        "downloaded.GetContentFile('dota2_dat.csv')\n",
        " \n",
        "\n",
        "id = '1kWIqoc_bXF1UwN6AzR2brxyvWjo3aQmv'\n",
        "downloaded = drive.CreateFile({'id':id})\n",
        "downloaded.GetContentFile('hero_names.csv')"
      ],
      "execution_count": 1,
      "outputs": []
    },
    {
      "cell_type": "markdown",
      "metadata": {
        "id": "wLvOuLx-teLS"
      },
      "source": [
        "## 1.2 Preprocess Data"
      ]
    },
    {
      "cell_type": "code",
      "metadata": {
        "id": "p9YdzFOvt1Ff",
        "colab": {
          "base_uri": "https://localhost:8080/"
        },
        "outputId": "d699602a-45e6-468a-a15b-54b781d48710"
      },
      "source": [
        "\n",
        "import numpy as np\n",
        "from glob import glob\n",
        "from numpy import asarray\n",
        "import pandas as pd\n",
        " \n",
        "hero_id_max = 113\n",
        "dota2_dat = pd.read_csv('dota2_dat.csv') \n",
        " \n",
        "dota2_list = dota2_dat.values.tolist()\n",
        "\n",
        "\n",
        "sample_in = []\n",
        "sample_out = []\n",
        "\n",
        "radiant_hero = list(map(int,dota2_list[41111][4].split(',')))\n",
        "dire_hero = list(map(int,dota2_list[41111][5].split(',')))\n",
        "print(dota2_list[1]) \n",
        "print(dire_hero)\n",
        "\n",
        "\n",
        "for i in range(len(dota2_list)):\n",
        "  radiant_vector = np.zeros(hero_id_max)\n",
        "  dire_vector = np.zeros(hero_id_max)\n",
        "  radiant_hero = list(map(int,dota2_list[i][4].split(',')))\n",
        "  dire_hero = list(map(int,dota2_list[i][5].split(',')))\n",
        "  for item in radiant_hero:\n",
        "    radiant_vector[item-1] = 1\n",
        "  for item in dire_hero:\n",
        "    dire_vector[item-1] = 1\n",
        "  sample_in.append([radiant_vector,dire_vector])\n",
        "\n",
        "  if dota2_list[i][3]==True:\n",
        "    win = 1.0\n",
        "  else:\n",
        "    win = 0.0\n",
        "  sample_out.append(win)\n",
        "\n",
        "\n",
        "sample_in = np.asarray(sample_in)\n",
        "sample_out = np.asarray(sample_out)\n",
        "print(\"sammple_in shape: \", sample_in.shape)\n",
        "print(sample_in[0])\n",
        "\n",
        "print(\"sammple_out shape: \", sample_out.shape)\n",
        "print(sample_out)\n",
        "\n",
        "print(\"radiant hero id: \", dota2_list[0][4]) \n",
        "print(\"dire hero id: \", dota2_list[0][5]) "
      ],
      "execution_count": 2,
      "outputs": [
        {
          "output_type": "stream",
          "text": [
            "[1, '2015-11-05 19:51:18', 2582, False, '7,82,71,39,21', '73,22,5,67,106']\n",
            "[41, 11, 16, 25, 36]\n",
            "sammple_in shape:  (48124, 2, 113)\n",
            "[[0. 0. 0. 0. 0. 0. 0. 0. 0. 0. 1. 0. 0. 0. 0. 0. 0. 0. 0. 0. 0. 0. 0. 0.\n",
            "  0. 0. 0. 0. 0. 0. 0. 0. 0. 0. 0. 0. 0. 0. 0. 0. 0. 0. 0. 0. 0. 0. 0. 0.\n",
            "  0. 0. 1. 0. 0. 0. 0. 0. 0. 0. 0. 0. 0. 0. 0. 0. 0. 0. 1. 0. 0. 0. 0. 0.\n",
            "  0. 0. 0. 0. 0. 0. 0. 0. 0. 0. 1. 0. 0. 1. 0. 0. 0. 0. 0. 0. 0. 0. 0. 0.\n",
            "  0. 0. 0. 0. 0. 0. 0. 0. 0. 0. 0. 0. 0. 0. 0. 0. 0.]\n",
            " [0. 0. 0. 0. 0. 0. 1. 0. 0. 0. 0. 0. 0. 0. 0. 0. 0. 0. 0. 0. 0. 0. 0. 0.\n",
            "  0. 0. 0. 0. 0. 0. 0. 0. 0. 0. 0. 0. 0. 0. 0. 0. 0. 0. 0. 0. 0. 1. 0. 0.\n",
            "  0. 0. 0. 0. 0. 0. 0. 0. 0. 0. 0. 0. 0. 0. 0. 0. 0. 0. 0. 0. 0. 0. 0. 0.\n",
            "  1. 0. 0. 0. 0. 0. 0. 0. 0. 0. 0. 0. 0. 0. 0. 0. 0. 0. 0. 0. 0. 0. 0. 0.\n",
            "  0. 0. 0. 0. 0. 1. 0. 0. 0. 1. 0. 0. 0. 0. 0. 0. 0.]]\n",
            "sammple_out shape:  (48124,)\n",
            "[1. 0. 0. ... 1. 1. 0.]\n",
            "radiant hero id:  86,51,83,11,67\n",
            "dire hero id:  106,102,46,7,73\n"
          ],
          "name": "stdout"
        }
      ]
    },
    {
      "cell_type": "code",
      "metadata": {
        "colab": {
          "base_uri": "https://localhost:8080/"
        },
        "id": "sHp5ByMBLEBU",
        "outputId": "a37fb7a9-b901-402e-e004-22bcf8f920e1"
      },
      "source": [
        "hero_names = pd.read_csv('hero_names.csv') \n",
        "hero_id_name = hero_names.drop([\"name\"], axis=1)\n",
        "hero_name_dict = hero_id_name.set_index('hero_id').T.to_dict('list')\n",
        "print(hero_name_dict)\n",
        "print(hero_name_dict[1][0])"
      ],
      "execution_count": 3,
      "outputs": [
        {
          "output_type": "stream",
          "text": [
            "{1: ['Anti-Mage'], 2: ['Axe'], 3: ['Bane'], 4: ['Bloodseeker'], 5: ['Crystal Maiden'], 6: ['Drow Ranger'], 7: ['Earthshaker'], 8: ['Juggernaut'], 9: ['Mirana'], 10: ['Morphling'], 11: ['Shadow Fiend'], 12: ['Phantom Lancer'], 13: ['Puck'], 14: ['Pudge'], 15: ['Razor'], 16: ['Sand King'], 17: ['Storm Spirit'], 18: ['Sven'], 19: ['Tiny'], 20: ['Vengeful Spirit'], 21: ['Windranger'], 22: ['Zeus'], 23: ['Kunkka'], 25: ['Lina'], 26: ['Lion'], 27: ['Shadow Shaman'], 28: ['Slardar'], 29: ['Tidehunter'], 30: ['Witch Doctor'], 31: ['Lich'], 32: ['Riki'], 33: ['Enigma'], 34: ['Tinker'], 35: ['Sniper'], 36: ['Necrophos'], 37: ['Warlock'], 38: ['Beastmaster'], 39: ['Queen of Pain'], 40: ['Venomancer'], 41: ['Faceless Void'], 42: ['Wraith King'], 43: ['Death Prophet'], 44: ['Phantom Assassin'], 45: ['Pugna'], 46: ['Templar Assassin'], 47: ['Viper'], 48: ['Luna'], 49: ['Dragon Knight'], 50: ['Dazzle'], 51: ['Clockwerk'], 52: ['Leshrac'], 53: [\"Nature's Prophet\"], 54: ['Lifestealer'], 55: ['Dark Seer'], 56: ['Clinkz'], 57: ['Omniknight'], 58: ['Enchantress'], 59: ['Huskar'], 60: ['Night Stalker'], 61: ['Broodmother'], 62: ['Bounty Hunter'], 63: ['Weaver'], 64: ['Jakiro'], 65: ['Batrider'], 66: ['Chen'], 67: ['Spectre'], 68: ['Ancient Apparition'], 69: ['Doom'], 70: ['Ursa'], 71: ['Spirit Breaker'], 72: ['Gyrocopter'], 73: ['Alchemist'], 74: ['Invoker'], 75: ['Silencer'], 76: ['Outworld Devourer'], 77: ['Lycan'], 78: ['Brewmaster'], 79: ['Shadow Demon'], 80: ['Lone Druid'], 81: ['Chaos Knight'], 82: ['Meepo'], 83: ['Treant Protector'], 84: ['Ogre Magi'], 85: ['Undying'], 86: ['Rubick'], 87: ['Disruptor'], 88: ['Nyx Assassin'], 89: ['Naga Siren'], 90: ['Keeper of the Light'], 91: ['Io'], 92: ['Visage'], 93: ['Slark'], 94: ['Medusa'], 95: ['Troll Warlord'], 96: ['Centaur Warrunner'], 97: ['Magnus'], 98: ['Timbersaw'], 99: ['Bristleback'], 100: ['Tusk'], 101: ['Skywrath Mage'], 102: ['Abaddon'], 103: ['Elder Titan'], 104: ['Legion Commander'], 105: ['Techies'], 106: ['Ember Spirit'], 107: ['Earth Spirit'], 108: ['Underlord'], 109: ['Terrorblade'], 110: ['Phoenix'], 111: ['Oracle'], 112: ['Winter Wyvern'], 113: ['Arc Warden']}\n",
            "Anti-Mage\n"
          ],
          "name": "stdout"
        }
      ]
    },
    {
      "cell_type": "markdown",
      "metadata": {
        "id": "SrzgEnmtpFlE"
      },
      "source": [
        "## 1.3 Normalization and PCA"
      ]
    },
    {
      "cell_type": "code",
      "metadata": {
        "colab": {
          "base_uri": "https://localhost:8080/"
        },
        "id": "Onxxt2I4J5oW",
        "outputId": "14313032-74e3-41d5-c136-7224770e844b"
      },
      "source": [
        "nsamples, nx, ny = sample_in.shape\n",
        "sample_in_1d = sample_in.reshape((nsamples,nx*ny))\n",
        "\n"
      ],
      "execution_count": null,
      "outputs": [
        {
          "output_type": "stream",
          "text": [
            "(48124, 226)\n"
          ],
          "name": "stdout"
        }
      ]
    },
    {
      "cell_type": "code",
      "metadata": {
        "colab": {
          "base_uri": "https://localhost:8080/",
          "height": 1000
        },
        "id": "oWoVbLy-GRZY",
        "outputId": "1fbfe303-4b69-4829-b5cd-757ee1e427e9"
      },
      "source": [
        "from sklearn.decomposition import TruncatedSVD\n",
        "from sklearn.decomposition import PCA\n",
        "from sklearn.preprocessing import StandardScaler\n",
        "from sklearn.pipeline import Pipeline\n",
        "\n",
        "def selectPCA(dataset, n, method = \"pca\" ):\n",
        "  scal = StandardScaler()\n",
        "\n",
        "  #dataset_norm = scal.fit_transform(dataset)\n",
        "\n",
        "  % matplotlib inline\n",
        "  import matplotlib.pyplot as plt\n",
        "\n",
        "  if method == \"pca\":\n",
        "    pca_dims = PCA()\n",
        "    pca_dims.fit(dataset)\n",
        "    plt.plot(np.cumsum(pca_dims.explained_variance_ratio_), label=\"pca\")\n",
        "    plt.xlabel('number of components')\n",
        "    plt.ylabel('cumulative explained variance');\n",
        "\n",
        "    plt.legend(loc=\"upper left\")\n",
        "    plt.show()\n",
        "\n",
        "\n",
        "    cumsum = np.cumsum(pca_dims.explained_variance_ratio_)\n",
        "    d = np.argmax(cumsum >= 0.95) + 1\n",
        "    pca  = PCA(n_components=d)\n",
        "\n",
        "    \n",
        "    dataset_reduced = pca.fit_transform(dataset)\n",
        "\n",
        "    plt.plot(np.cumsum(pca.explained_variance_ratio_), label=\"pca\")\n",
        "    plt.xlabel('number of components')\n",
        "    plt.ylabel('cumulative explained variance');\n",
        "\n",
        "    plt.legend(loc=\"upper left\")\n",
        "    plt.show()\n",
        "  if method == \"svd\":\n",
        "    dataset = scal.fit_transform(dataset)\n",
        "    svd_dims = TruncatedSVD(n_components=n)\n",
        "    svd_dims.fit(dataset)\n",
        "    plt.plot(np.cumsum(svd_dims.explained_variance_ratio_), label=\"svd\")\n",
        "    plt.xlabel('number of components')\n",
        "    plt.ylabel('cumulative explained variance');\n",
        "\n",
        "    plt.legend(loc=\"upper left\")\n",
        "    plt.show()\n",
        "\n",
        "\n",
        "    cumsum = np.cumsum(svd_dims.explained_variance_ratio_)\n",
        "    d = np.argmax(cumsum >= 0.95) + 1\n",
        "    svd  = TruncatedSVD(n_components=d)\n",
        "\n",
        "    \n",
        "    dataset_reduced = svd.fit_transform(dataset)\n",
        "\n",
        "    plt.plot(np.cumsum(svd.explained_variance_ratio_), label=\"svd\")\n",
        "    plt.xlabel('number of components')\n",
        "    plt.ylabel('cumulative explained variance');\n",
        "\n",
        "    plt.legend(loc=\"upper left\")\n",
        "    plt.show()\n",
        "\n",
        "\n",
        "\n",
        "\n",
        "  print(\"n_components=\",d)\n",
        "  print(\"\\n\")\n",
        "  print(dataset_reduced[0])\n",
        "\n",
        "  return dataset_reduced\n",
        "\n",
        "\n",
        "print(\"sample_in 1d shape:\",sample_in_1d.shape)\n",
        "dataset_reduced_1 = selectPCA(sample_in_1d, 1, \"pca\")"
      ],
      "execution_count": null,
      "outputs": [
        {
          "output_type": "stream",
          "text": [
            "sample_in 1d shape: (48124, 226)\n"
          ],
          "name": "stdout"
        },
        {
          "output_type": "display_data",
          "data": {
            "image/png": "[encoded data removed]",
            "text/plain": [
              "<Figure size 432x288 with 1 Axes>"
            ]
          },
          "metadata": {
            "tags": [],
            "needs_background": "light"
          }
        },
        {
          "output_type": "display_data",
          "data": {
            "image/png": "[encoded data removed]",
            "text/plain": [
              "<Figure size 432x288 with 1 Axes>"
            ]
          },
          "metadata": {
            "tags": [],
            "needs_background": "light"
          }
        },
        {
          "output_type": "stream",
          "text": [
            "n_components= 178\n",
            "\n",
            "\n",
            "[ 0.26539194  0.84520905  0.4194105   0.31942687 -0.22132725  0.60513259\n",
            " -0.07230707 -0.04914749  0.64553104 -0.20801863  0.08637064 -0.0350171\n",
            "  0.01921507  0.24300133  0.30367117 -0.20196778 -0.43632851  0.61847819\n",
            "  0.0014559  -0.1366159   0.1008008   0.50591333  0.33049091  0.29259934\n",
            " -0.16645426  0.1192675  -0.32400263  0.20165733  0.1595543  -0.17219674\n",
            " -0.08608044 -0.25004229  0.35419533  0.15447898 -0.04009374 -0.21414088\n",
            " -0.47254048  0.37226019  0.34355061 -0.45151422  0.09481741 -0.33281008\n",
            " -0.19705783 -0.06005229 -0.38430474 -0.13784685 -0.02579034 -0.05506946\n",
            " -0.33707122  0.08307784 -0.10182427  0.17567559  0.11498726 -0.07096663\n",
            "  0.05453233  0.1956585  -0.43905505 -0.03161467  0.14834245 -0.12539523\n",
            "  0.42308091  0.46815515  0.37411588 -0.1876473  -0.02132429  0.40132047\n",
            " -0.3606506   0.38793951  0.02008103 -0.00893266  0.10824237  0.15694195\n",
            "  0.16070919 -0.00719033 -0.02089443  0.51359116  0.23052271  0.07632509\n",
            " -0.17201515 -0.13381492 -0.35140678 -0.19543317  0.04975405  0.20593427\n",
            " -0.15090221 -0.28436637  0.21610738 -0.0812447   0.01946878  0.18399301\n",
            "  0.02481348  0.09321236  0.22862787  0.04747949 -0.13321825 -0.06412112\n",
            " -0.13143698 -0.02746529 -0.07219857 -0.11624305 -0.065424    0.35091797\n",
            " -0.00693488 -0.06696369  0.03274683 -0.17776449 -0.28534425  0.08407008\n",
            "  0.00991712 -0.23102858  0.11586365 -0.32221789 -0.2318512   0.53839424\n",
            "  0.33061144 -0.02785926 -0.09008114 -0.16375169 -0.02005398  0.10219271\n",
            "  0.02701912  0.08094028  0.01050227 -0.10396179 -0.17419292 -0.0755931\n",
            " -0.01018639  0.03738666 -0.06490929  0.07120939 -0.08490093 -0.02085104\n",
            " -0.00748321 -0.08853834 -0.01800364 -0.02027339  0.01144921  0.03303594\n",
            " -0.04321582  0.01979459 -0.01050243 -0.03549659  0.06861379  0.03505415\n",
            "  0.07727824 -0.01809254 -0.01165925  0.07183597 -0.05109647 -0.01874319\n",
            " -0.03702968 -0.06338458  0.06650623  0.0150494   0.02764931 -0.06732517\n",
            "  0.00533742  0.07601293 -0.0317515  -0.282304   -0.08151889 -0.02085868\n",
            " -0.04507886  0.27293997  0.22502448  0.03120982  0.27675795  0.08370986\n",
            " -0.43829465  0.07537809  0.28379657 -0.11431222 -0.29614966  0.14840229\n",
            "  0.38568504  0.01548161 -0.0421443   0.1425624 ]\n"
          ],
          "name": "stdout"
        }
      ]
    },
    {
      "cell_type": "markdown",
      "metadata": {
        "id": "lq9CleKBpUyA"
      },
      "source": [
        "## 1.4 Split Data"
      ]
    },
    {
      "cell_type": "code",
      "metadata": {
        "id": "mkv2CFg5pkfb"
      },
      "source": [
        "def split_sample(sample_in, sample_out):\n",
        "    train_x = []\n",
        "    train_y = []\n",
        "    test_x = []\n",
        "    test_y = []\n",
        "    validate_x = []\n",
        "    validate_y = []\n",
        "    for i in range(len(sample_in)):\n",
        "        if i%10==8:\n",
        "            test_x.append(sample_in[i])\n",
        "            test_y.append(sample_out[i])\n",
        "        elif i%10==9:\n",
        "            validate_x.append(sample_in[i])\n",
        "            validate_y.append(sample_out[i])\n",
        "        else:\n",
        "            train_x.append(sample_in[i])\n",
        "            train_y.append(sample_out[i])\n",
        "    return train_x,train_y,test_x,test_y,validate_x,validate_y\n",
        "\n",
        "train_x,train_y,test_x,test_y,validate_x,validate_y = split_sample(sample_in, sample_out)"
      ],
      "execution_count": 4,
      "outputs": []
    },
    {
      "cell_type": "code",
      "metadata": {
        "colab": {
          "base_uri": "https://localhost:8080/"
        },
        "id": "qCOy7VIkqSpv",
        "outputId": "1e6e00e2-7645-474e-aca5-a5b92dde3e19"
      },
      "source": [
        "print(np.asarray(train_x).shape)\n",
        "print(np.asarray(train_y).shape)\n",
        "print(np.asarray(test_x).shape)\n",
        "print(np.asarray(test_y).shape)\n",
        "print(np.asarray(validate_x).shape)\n",
        "print(np.asarray(validate_y).shape)"
      ],
      "execution_count": 9,
      "outputs": [
        {
          "output_type": "stream",
          "text": [
            "(38500, 2, 113)\n",
            "(38500,)\n",
            "(4812, 2, 113)\n",
            "(4812,)\n",
            "(4812, 2, 113)\n",
            "(4812,)\n"
          ],
          "name": "stdout"
        }
      ]
    },
    {
      "cell_type": "markdown",
      "metadata": {
        "id": "F-3XiApgk3sA"
      },
      "source": [
        "\n",
        "\n",
        "---\n",
        "\n",
        "\n",
        "# 2. Train Model"
      ]
    },
    {
      "cell_type": "code",
      "metadata": {
        "colab": {
          "base_uri": "https://localhost:8080/"
        },
        "id": "pVKT0mh2r9w8",
        "outputId": "5e229b37-e2e0-4999-c6ae-fe0cfbf4f9bd"
      },
      "source": [
        "import math\n",
        "import keras\n",
        "from keras.models import Sequential\n",
        "from keras.layers import LSTM, Dense, Activation, Embedding, Masking, Dropout, Conv1D, MaxPooling1D, Reshape\n",
        "from keras.models import load_model\n",
        "\n",
        "\n",
        "\n",
        "# Parameters\n",
        "predict_step = 1\n",
        "team_num = 2   \n",
        "cnn_output_dim = 64 \n",
        "kernel_size = 13\n",
        "pool_size = 2       \n",
        "hidden_size = 256  \n",
        "epochs = 2000      \n",
        "batch_size = 1000  \n",
        "\n",
        "hero_id_max = 113   \n",
        "\n",
        "\n",
        "\n",
        "tx = np.array(train_x).reshape(len(train_x),team_num,hero_id_max)\n",
        "ty = np.array(train_y).reshape(len(train_y),1)\n",
        "test_x = np.array(test_x).reshape(len(test_x),team_num,hero_id_max)\n",
        "test_y = np.array(test_y).reshape(len(test_y),1)\n",
        "validate_x = np.array(validate_x).reshape(len(validate_x),team_num,hero_id_max)\n",
        "validate_y = np.array(validate_y).reshape(len(validate_y),1)\n",
        "\n",
        "print('=========== tx.shape:',tx.shape,' ===============')\n",
        "print('=========== ty.shape:',ty.shape,' ===============')\n",
        "print('=========== test_x.shape:',test_x.shape,' ===============')\n",
        "print('=========== test_y.shape:',test_y.shape,' ===============')\n",
        "print('=========== validate_x.shape:',validate_x.shape,' ===============')\n",
        "print('=========== validate_y.shape:',validate_y.shape,' ===============')\n",
        "\n",
        "def train_save_model(model_name):\n",
        "  callbacks = [keras.callbacks.EarlyStopping(monitor='val_loss', patience=2, verbose=0, mode='min'),\\\n",
        "    keras.callbacks.ReduceLROnPlateau(monitor='val_loss', factor=0.5, patience=1, verbose=0, mode='min',\\\n",
        "          epsilon=0.0001, cooldown=0, min_lr=0)]\n",
        "  hist = model.fit(tx,ty,batch_size=batch_size,epochs=epochs,shuffle=True,\\\n",
        "      validation_data=(validate_x, validate_y),callbacks=callbacks)\n",
        "  model.save(model_name+'.h5')"
      ],
      "execution_count": 5,
      "outputs": [
        {
          "output_type": "stream",
          "text": [
            "=========== tx.shape: (38500, 2, 113)  ===============\n",
            "=========== ty.shape: (38500, 1)  ===============\n",
            "=========== test_x.shape: (4812, 2, 113)  ===============\n",
            "=========== test_y.shape: (4812, 1)  ===============\n",
            "=========== validate_x.shape: (4812, 2, 113)  ===============\n",
            "=========== validate_y.shape: (4812, 1)  ===============\n"
          ],
          "name": "stdout"
        }
      ]
    },
    {
      "cell_type": "markdown",
      "metadata": {
        "id": "hxAng4yft0nA"
      },
      "source": [
        "## 2.1 CNN"
      ]
    },
    {
      "cell_type": "code",
      "metadata": {
        "id": "5rI1uVZUuPOi",
        "colab": {
          "base_uri": "https://localhost:8080/"
        },
        "outputId": "2cd37472-acc1-4add-b92a-5f196c822cb4"
      },
      "source": [
        "#CNN \n",
        "model_name = '5310_cnn'\n",
        "model = Sequential()\n",
        "model.add(Conv1D(cnn_output_dim,kernel_size,padding='same',activation='relu',input_shape=(team_num,hero_id_max)))  \n",
        "model.add(MaxPooling1D(pool_size=pool_size,data_format='channels_first'))  \n",
        "model.add(Reshape((int(team_num*cnn_output_dim/pool_size),), input_shape=(team_num,int(cnn_output_dim/pool_size))))\n",
        "model.add(Dropout(0.2))\n",
        "model.add(Dense((10),input_shape=(team_num,cnn_output_dim/pool_size)))\n",
        "model.add(Dropout(0.2))\n",
        "model.add(Dense(1))              \n",
        "model.add(Activation('sigmoid'))\n",
        "model.compile(loss='mse',optimizer='adam',metrics=['accuracy'])\n",
        "\n",
        "train_save_model(model_name)"
      ],
      "execution_count": 6,
      "outputs": [
        {
          "output_type": "stream",
          "text": [
            "WARNING:tensorflow:`epsilon` argument is deprecated and will be removed, use `min_delta` instead.\n",
            "Epoch 1/2000\n",
            "39/39 [==============================] - 17s 49ms/step - loss: 0.2483 - accuracy: 0.5346 - val_loss: 0.2393 - val_accuracy: 0.5871\n",
            "Epoch 2/2000\n",
            "39/39 [==============================] - 1s 33ms/step - loss: 0.2361 - accuracy: 0.5992 - val_loss: 0.2368 - val_accuracy: 0.5960\n",
            "Epoch 3/2000\n",
            "39/39 [==============================] - 1s 34ms/step - loss: 0.2314 - accuracy: 0.6136 - val_loss: 0.2367 - val_accuracy: 0.6008\n",
            "Epoch 4/2000\n",
            "39/39 [==============================] - 1s 33ms/step - loss: 0.2292 - accuracy: 0.6228 - val_loss: 0.2367 - val_accuracy: 0.5991\n",
            "Epoch 5/2000\n",
            "39/39 [==============================] - 1s 34ms/step - loss: 0.2277 - accuracy: 0.6284 - val_loss: 0.2371 - val_accuracy: 0.5970\n",
            "Epoch 6/2000\n",
            "39/39 [==============================] - 1s 33ms/step - loss: 0.2250 - accuracy: 0.6332 - val_loss: 0.2371 - val_accuracy: 0.5987\n"
          ],
          "name": "stdout"
        }
      ]
    },
    {
      "cell_type": "markdown",
      "metadata": {
        "id": "nT2Y8fnXsCUd"
      },
      "source": [
        "## 2.2 LSTM"
      ]
    },
    {
      "cell_type": "code",
      "metadata": {
        "colab": {
          "base_uri": "https://localhost:8080/"
        },
        "id": "ftLKgNCRsKKw",
        "outputId": "5c3c4724-5f79-4e72-9933-531ec7be8430"
      },
      "source": [
        "# LSTM\n",
        "model_name = '5310_lstm'\n",
        "model = Sequential()\n",
        "model.add(LSTM(hidden_size, input_shape=(team_num,hero_id_max), return_sequences=False))  \n",
        "model.add(Dropout(0.2))\n",
        "model.add(Dense(10))\n",
        "model.add(Dropout(0.2))\n",
        "model.add(Dense(1))              \n",
        "model.add(Activation('sigmoid'))\n",
        "model.compile(loss='mse',optimizer='adam',metrics=['accuracy'])\n",
        "\n",
        "train_save_model(model_name)"
      ],
      "execution_count": 7,
      "outputs": [
        {
          "output_type": "stream",
          "text": [
            "WARNING:tensorflow:`epsilon` argument is deprecated and will be removed, use `min_delta` instead.\n",
            "Epoch 1/2000\n",
            "39/39 [==============================] - 10s 127ms/step - loss: 0.2493 - accuracy: 0.5136 - val_loss: 0.2436 - val_accuracy: 0.5684\n",
            "Epoch 2/2000\n",
            "39/39 [==============================] - 4s 113ms/step - loss: 0.2399 - accuracy: 0.5890 - val_loss: 0.2361 - val_accuracy: 0.5987\n",
            "Epoch 3/2000\n",
            "39/39 [==============================] - 4s 112ms/step - loss: 0.2354 - accuracy: 0.5992 - val_loss: 0.2356 - val_accuracy: 0.6054\n",
            "Epoch 4/2000\n",
            "39/39 [==============================] - 4s 112ms/step - loss: 0.2336 - accuracy: 0.6096 - val_loss: 0.2358 - val_accuracy: 0.5975\n",
            "Epoch 5/2000\n",
            "39/39 [==============================] - 4s 112ms/step - loss: 0.2331 - accuracy: 0.6086 - val_loss: 0.2357 - val_accuracy: 0.6014\n"
          ],
          "name": "stdout"
        }
      ]
    },
    {
      "cell_type": "markdown",
      "metadata": {
        "id": "imwmr638sCpS"
      },
      "source": [
        "## 2.1 CNN + LSTM"
      ]
    },
    {
      "cell_type": "code",
      "metadata": {
        "colab": {
          "base_uri": "https://localhost:8080/"
        },
        "id": "VnkGpjJXsKv5",
        "outputId": "2f5f1205-0729-47d8-c04a-73ee13322bcc"
      },
      "source": [
        "#CNN + LSTM \n",
        "model_name = '5310_cnn_lstm'\n",
        "model = Sequential()\n",
        "model.add(Conv1D(cnn_output_dim,kernel_size,padding='same',input_shape=(team_num,hero_id_max)))  \n",
        "model.add(MaxPooling1D(pool_size=pool_size,data_format='channels_first'))  \n",
        "model.add(LSTM(hidden_size, input_shape=(team_num,(cnn_output_dim/pool_size)), return_sequences=False))  \n",
        "model.add(Dropout(0.2))\n",
        "model.add(Dense(10))\n",
        "model.add(Dropout(0.2))\n",
        "model.add(Dense(1))              \n",
        "model.add(Activation('sigmoid'))\n",
        "model.compile(loss='mse',optimizer='adam',metrics=['accuracy'])\n",
        "\n",
        "train_save_model(model_name)"
      ],
      "execution_count": 8,
      "outputs": [
        {
          "output_type": "stream",
          "text": [
            "WARNING:tensorflow:`epsilon` argument is deprecated and will be removed, use `min_delta` instead.\n",
            "Epoch 1/2000\n",
            "39/39 [==============================] - 8s 147ms/step - loss: 0.2491 - accuracy: 0.5228 - val_loss: 0.2407 - val_accuracy: 0.5761\n",
            "Epoch 2/2000\n",
            "39/39 [==============================] - 5s 130ms/step - loss: 0.2368 - accuracy: 0.5980 - val_loss: 0.2361 - val_accuracy: 0.6022\n",
            "Epoch 3/2000\n",
            "39/39 [==============================] - 5s 129ms/step - loss: 0.2301 - accuracy: 0.6167 - val_loss: 0.2369 - val_accuracy: 0.6002\n",
            "Epoch 4/2000\n",
            "39/39 [==============================] - 5s 129ms/step - loss: 0.2262 - accuracy: 0.6297 - val_loss: 0.2371 - val_accuracy: 0.6000\n"
          ],
          "name": "stdout"
        }
      ]
    },
    {
      "cell_type": "markdown",
      "metadata": {
        "id": "BVB6M5-tmVZ6"
      },
      "source": [
        "\n",
        "\n",
        "---\n",
        "\n",
        "\n",
        "# 3. Test Model"
      ]
    },
    {
      "cell_type": "code",
      "metadata": {
        "id": "8wleUu7rwH3r"
      },
      "source": [
        "\n",
        "def test_model(model_name):\n",
        "  tag_line = 0.6\n",
        "  # load model\n",
        "  keras.backend.clear_session()    \n",
        "  model = load_model(model_name+'.h5')\n",
        "  out0 = model.predict(test_x)\n",
        "  correct_num = 0\n",
        "  for i in range(len(out0)):\n",
        "      if out0[i][0]<0.5:\n",
        "          temp_result = 0.0\n",
        "      else:\n",
        "          temp_result = 1.0\n",
        "      if temp_result==test_y[i][0]:\n",
        "          correct_num += 1\n",
        "  print('Test dataset accuracy：',float(correct_num)/len(test_x))\n",
        "\n",
        "  out1 = model.predict(tx)\n",
        "  correct_num = 0\n",
        "  for i in range(len(out1)):\n",
        "      if out1[i][0]<0.5:\n",
        "          temp_result = 0.0\n",
        "      else:\n",
        "          temp_result = 1.0\n",
        "      if temp_result==ty[i][0]:\n",
        "          correct_num += 1\n",
        "  print('Train dataset accuracy：',float(correct_num)/len(tx))\n",
        "\n",
        "  out2 = model.predict(validate_x)\n",
        "  correct_num = 0\n",
        "  for i in range(len(out2)):\n",
        "      if out2[i][0]<0.5:\n",
        "          temp_result = 0.0\n",
        "      else:\n",
        "          temp_result = 1.0\n",
        "      if temp_result==validate_y[i][0]:\n",
        "          correct_num += 1\n",
        "  print('Validate dataset accuracy：',float(correct_num)/len(validate_x))\n",
        "\n",
        "  correct_num = 0\n",
        "  compare_num = 0\n",
        "  for i in range(len(out0)):\n",
        "      if out0[i][0]<(1.0-tag_line) or out0[i][0]>tag_line:\n",
        "          compare_num += 1\n",
        "          if out0[i][0]<0.5:\n",
        "              temp_result = 0.0\n",
        "          else:\n",
        "              temp_result = 1.0\n",
        "          if temp_result==test_y[i][0]:\n",
        "              correct_num += 1\n",
        "  print('Test dataset,the accuracy of the predicted win rate over '+str(tag_line)+'：',float(correct_num)/compare_num,\\\n",
        "      ' ('+str(correct_num)+'/'+str(compare_num)+')')\n",
        "\n",
        "  for i in range(5):\n",
        "      tag_line = 0.75+0.05*i\n",
        "      correct_num = 0\n",
        "      compare_num = 0\n",
        "\n",
        "      for i in range(len(out0)):\n",
        "          if out0[i][0]<(1.0-tag_line) or out0[i][0]>tag_line:\n",
        "              \n",
        "              compare_num += 1\n",
        "              if out0[i][0]<0.5:\n",
        "                  temp_result = 0.0\n",
        "              else:\n",
        "                  temp_result = 1.0\n",
        "              if temp_result==test_y[i][0]:\n",
        "                  correct_num += 1\n",
        "      if compare_num!=0:\n",
        "          print('Test dataset,the accuracy of the predicted win rate over '+str(tag_line)+'：',float(correct_num)/compare_num,\\\n",
        "              ' ('+str(correct_num)+'/'+str(compare_num)+')')\n",
        "      else:\n",
        "          print('Test dataset,the accuracy of the predicted win rate over '+str(tag_line)+'：','0.0',\\\n",
        "              ' ('+str(correct_num)+'/'+str(compare_num)+')')\n",
        "          \n",
        "\n",
        "\n",
        "\n",
        "def get_hero_id(model_name, win_rate):\n",
        "  print(\"Print the line-up with win rate over \", win_rate, '\\n')\n",
        "  # load model\n",
        "  keras.backend.clear_session()    \n",
        "  model = load_model(model_name+'.h5')\n",
        "  out0 = model.predict(test_x)\n",
        "\n",
        "  for i in range(len(out0)):\n",
        "    if out0[i][0]>=win_rate or out0[i][0]<=(1.0-win_rate):\n",
        "      radiant_id=[]\n",
        "      dire_id=[]\n",
        "      for j in range(len(test_x[i][0])):\n",
        "        if test_x[i][0][j]==1:\n",
        "          radiant_id.append(hero_name_dict[j+1][0])\n",
        "        if test_x[i][1][j]==1:\n",
        "          dire_id.append(hero_name_dict[j+1][0])\n",
        "\n",
        "      print('radiant heros: ', radiant_id)\n",
        "      print('dire heros: ', dire_id)\n",
        "      print('predicted win rate: ', out0[i][0])\n",
        "      print('actual win rate: ', test_y[i])\n",
        "      print('\\n')\n",
        "  \n"
      ],
      "execution_count": 9,
      "outputs": []
    },
    {
      "cell_type": "markdown",
      "metadata": {
        "id": "4e1rXjiou6Xg"
      },
      "source": [
        "## 3.1 CNN"
      ]
    },
    {
      "cell_type": "code",
      "metadata": {
        "colab": {
          "base_uri": "https://localhost:8080/"
        },
        "id": "hY0m0ZBFy76t",
        "outputId": "fa3573a4-e46f-49af-d333-bd2f7df5e2dd"
      },
      "source": [
        "model_name = '5310_cnn'\n",
        "test_model(model_name)\n",
        "print('\\n')\n",
        "get_hero_id(model_name, 0.85)"
      ],
      "execution_count": 10,
      "outputs": [
        {
          "output_type": "stream",
          "text": [
            "Test dataset accuracy： 0.594139650872818\n",
            "Train dataset accuracy： 0.6426493506493507\n",
            "Validate dataset accuracy： 0.5987115544472152\n",
            "Test dataset,the accuracy of the predicted win rate over 0.6： 0.6573304157549235  (1502/2285)\n",
            "Test dataset,the accuracy of the predicted win rate over 0.75： 0.7511111111111111  (169/225)\n",
            "Test dataset,the accuracy of the predicted win rate over 0.8： 0.8125  (52/64)\n",
            "Test dataset,the accuracy of the predicted win rate over 0.85： 0.6666666666666666  (4/6)\n",
            "Test dataset,the accuracy of the predicted win rate over 0.9： 0.0  (0/0)\n",
            "Test dataset,the accuracy of the predicted win rate over 0.95： 0.0  (0/0)\n",
            "\n",
            "\n",
            "Print the line-up with win rate over  0.85 \n",
            "\n",
            "radiant heros:  ['Windranger', 'Phantom Assassin', \"Nature's Prophet\", 'Broodmother', 'Rubick']\n",
            "dire heros:  ['Crystal Maiden', 'Earthshaker', 'Shadow Fiend', 'Venomancer', 'Ursa']\n",
            "predicted win rate:  0.13141668\n",
            "actual win rate:  [0.]\n",
            "\n",
            "\n",
            "radiant heros:  ['Pudge', 'Witch Doctor', 'Spectre', 'Silencer', 'Undying']\n",
            "dire heros:  ['Phantom Assassin', 'Rubick', 'Visage', 'Magnus', 'Ember Spirit']\n",
            "predicted win rate:  0.8746617\n",
            "actual win rate:  [1.]\n",
            "\n",
            "\n",
            "radiant heros:  ['Venomancer', 'Spirit Breaker', 'Silencer', 'Tusk', 'Abaddon']\n",
            "dire heros:  ['Anti-Mage', 'Sniper', 'Queen of Pain', 'Huskar', 'Legion Commander']\n",
            "predicted win rate:  0.85363185\n",
            "actual win rate:  [1.]\n",
            "\n",
            "\n",
            "radiant heros:  ['Lich', 'Necrophos', 'Night Stalker', 'Spectre', 'Spirit Breaker']\n",
            "dire heros:  ['Bloodseeker', 'Queen of Pain', 'Bristleback', 'Ember Spirit', 'Earth Spirit']\n",
            "predicted win rate:  0.8687806\n",
            "actual win rate:  [0.]\n",
            "\n",
            "\n",
            "radiant heros:  ['Pudge', 'Lich', 'Riki', 'Doom', 'Legion Commander']\n",
            "dire heros:  ['Phantom Lancer', 'Chen', 'Ancient Apparition', 'Bristleback', 'Ember Spirit']\n",
            "predicted win rate:  0.86114883\n",
            "actual win rate:  [1.]\n",
            "\n",
            "\n",
            "radiant heros:  ['Earthshaker', 'Zeus', 'Spectre', 'Outworld Devourer', 'Undying']\n",
            "dire heros:  ['Shadow Fiend', 'Windranger', \"Nature's Prophet\", 'Legion Commander', 'Ember Spirit']\n",
            "predicted win rate:  0.859676\n",
            "actual win rate:  [0.]\n",
            "\n",
            "\n"
          ],
          "name": "stdout"
        }
      ]
    },
    {
      "cell_type": "markdown",
      "metadata": {
        "id": "iAjywpZxy9eu"
      },
      "source": [
        "## 3.1 LSTM"
      ]
    },
    {
      "cell_type": "code",
      "metadata": {
        "colab": {
          "base_uri": "https://localhost:8080/"
        },
        "id": "51CrrICfy-Me",
        "outputId": "97da3cb4-146e-42ed-99f8-79bc1e28a589"
      },
      "source": [
        "model_name = '5310_lstm'\n",
        "test_model(model_name)\n",
        "print('\\n')\n",
        "get_hero_id(model_name, 0.85)"
      ],
      "execution_count": 13,
      "outputs": [
        {
          "output_type": "stream",
          "text": [
            "Test dataset accuracy： 0.6012053200332502\n",
            "Train dataset accuracy： 0.6124155844155844\n",
            "Validate dataset accuracy： 0.6014131338320865\n",
            "Test dataset,the accuracy of the predicted win rate over 0.6： 0.6633663366336634  (1474/2222)\n",
            "Test dataset,the accuracy of the predicted win rate over 0.75： 0.7591623036649214  (145/191)\n",
            "Test dataset,the accuracy of the predicted win rate over 0.8： 0.7441860465116279  (32/43)\n",
            "Test dataset,the accuracy of the predicted win rate over 0.85： 0.5  (2/4)\n",
            "Test dataset,the accuracy of the predicted win rate over 0.9： 0.0  (0/0)\n",
            "Test dataset,the accuracy of the predicted win rate over 0.95： 0.0  (0/0)\n",
            "\n",
            "\n",
            "Print the line-up with win rate over  0.85 \n",
            "\n",
            "radiant heros:  ['Windranger', 'Phantom Assassin', \"Nature's Prophet\", 'Broodmother', 'Rubick']\n",
            "dire heros:  ['Crystal Maiden', 'Earthshaker', 'Shadow Fiend', 'Venomancer', 'Ursa']\n",
            "predicted win rate:  0.12564245\n",
            "actual win rate:  [0.]\n",
            "\n",
            "\n",
            "radiant heros:  ['Venomancer', 'Spirit Breaker', 'Silencer', 'Tusk', 'Abaddon']\n",
            "dire heros:  ['Anti-Mage', 'Sniper', 'Queen of Pain', 'Huskar', 'Legion Commander']\n",
            "predicted win rate:  0.8640027\n",
            "actual win rate:  [1.]\n",
            "\n",
            "\n",
            "radiant heros:  ['Lich', 'Necrophos', 'Night Stalker', 'Spectre', 'Spirit Breaker']\n",
            "dire heros:  ['Bloodseeker', 'Queen of Pain', 'Bristleback', 'Ember Spirit', 'Earth Spirit']\n",
            "predicted win rate:  0.8549706\n",
            "actual win rate:  [0.]\n",
            "\n",
            "\n",
            "radiant heros:  ['Morphling', 'Storm Spirit', 'Lion', 'Clinkz', 'Lycan']\n",
            "dire heros:  ['Juggernaut', 'Shadow Fiend', 'Slardar', 'Night Stalker', 'Spectre']\n",
            "predicted win rate:  0.14847767\n",
            "actual win rate:  [1.]\n",
            "\n",
            "\n"
          ],
          "name": "stdout"
        }
      ]
    },
    {
      "cell_type": "markdown",
      "metadata": {
        "id": "tvZY0kZoy-co"
      },
      "source": [
        "## 3.1 CNN + LSTM"
      ]
    },
    {
      "cell_type": "code",
      "metadata": {
        "colab": {
          "base_uri": "https://localhost:8080/"
        },
        "id": "I8onx-uVy-_z",
        "outputId": "c9ba1313-0a57-418b-b5b7-f616e5cff3b7"
      },
      "source": [
        "model_name = '5310_cnn_lstm'\n",
        "test_model(model_name)\n",
        "print('\\n')\n",
        "get_hero_id(model_name, 0.9)"
      ],
      "execution_count": 14,
      "outputs": [
        {
          "output_type": "stream",
          "text": [
            "Test dataset accuracy： 0.5978802992518704\n",
            "Train dataset accuracy： 0.638961038961039\n",
            "Validate dataset accuracy： 0.5999584372402328\n",
            "Test dataset,the accuracy of the predicted win rate over 0.6： 0.6553225168183617  (1656/2527)\n",
            "Test dataset,the accuracy of the predicted win rate over 0.75： 0.7184986595174263  (268/373)\n",
            "Test dataset,the accuracy of the predicted win rate over 0.8： 0.7154471544715447  (88/123)\n",
            "Test dataset,the accuracy of the predicted win rate over 0.85： 0.625  (15/24)\n",
            "Test dataset,the accuracy of the predicted win rate over 0.9： 1.0  (1/1)\n",
            "Test dataset,the accuracy of the predicted win rate over 0.95： 0.0  (0/0)\n",
            "\n",
            "\n",
            "Print the line-up with win rate over  0.9 \n",
            "\n",
            "radiant heros:  ['Venomancer', 'Spirit Breaker', 'Silencer', 'Tusk', 'Abaddon']\n",
            "dire heros:  ['Anti-Mage', 'Sniper', 'Queen of Pain', 'Huskar', 'Legion Commander']\n",
            "predicted win rate:  0.9167284\n",
            "actual win rate:  [1.]\n",
            "\n",
            "\n"
          ],
          "name": "stdout"
        }
      ]
    }
  ]
}